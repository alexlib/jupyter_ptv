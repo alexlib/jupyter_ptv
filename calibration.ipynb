{
 "cells": [
  {
   "cell_type": "code",
   "execution_count": 3,
   "metadata": {},
   "outputs": [],
   "source": [
    "import os, shutil\n",
    "\n",
    "import numpy as np\n",
    "from imageio import imread\n",
    "import matplotlib.pyplot as plt\n",
    "\n",
    "%matplotlib qt"
   ]
  },
  {
   "cell_type": "code",
   "execution_count": 4,
   "metadata": {},
   "outputs": [],
   "source": [
    "from optv.imgcoord import image_coordinates\n",
    "from optv.transforms import convert_arr_metric_to_pixel\n",
    "from optv.orientation import match_detection_to_ref\n",
    "from optv.segmentation import target_recognition\n",
    "from optv.orientation import external_calibration, full_calibration\n",
    "from optv.calibration import Calibration\n",
    "from optv.tracking_framebuf import TargetArray\n",
    "from optv.parameters import ControlParams, VolumeParams, TrackingParams, \\\n",
    "    SequenceParams, TargetParams"
   ]
  },
  {
   "cell_type": "code",
   "execution_count": 5,
   "metadata": {},
   "outputs": [],
   "source": [
    "from pyptv import ptv\n",
    "from pyptv import parameters as par\n",
    "from pyptv import parameter_gui as pargui"
   ]
  },
  {
   "cell_type": "code",
   "execution_count": 6,
   "metadata": {},
   "outputs": [
    {
     "name": "stdout",
     "output_type": "stream",
     "text": [
      "/Users/alex/Documents/OpenPTV/test_cavity/parametersRun1\n",
      "/Users/alex/Documents/OpenPTV/test_cavity\n",
      "/Users/alex/Documents/OpenPTV/test_cavity/parameters\n",
      "copy from /Users/alex/Documents/OpenPTV/test_cavity/parametersRun1 to /Users/alex/Documents/OpenPTV/test_cavity/parameters\n"
     ]
    }
   ],
   "source": [
    "# set paths:\n",
    "\n",
    "active_path = '/Users/alex/Documents/OpenPTV/test_cavity/parametersRun1' # like from GUI\n",
    "print(active_path)\n",
    "working_folder = os.path.split(active_path)[0]\n",
    "print(working_folder)\n",
    "par_path = os.path.join(working_folder, 'parameters')\n",
    "print(os.path.abspath(par_path))\n",
    "\n",
    "# set folders, read number of cameras\n",
    "par.copy_params_dir(active_path, par_path)\n"
   ]
  },
  {
   "cell_type": "code",
   "execution_count": 7,
   "metadata": {},
   "outputs": [
    {
     "name": "stdout",
     "output_type": "stream",
     "text": [
      "Inside a working folder:  /Users/alex/Documents/OpenPTV/test_cavity\n",
      "4\n"
     ]
    }
   ],
   "source": [
    "# read parameters\n",
    "# first read the number of cameras \n",
    "# then read all the parameters, some use liboptv, some use pyptv\n",
    "\n",
    "os.chdir(os.path.abspath(working_folder))\n",
    "print(\"Inside a working folder: \", os.getcwd())\n",
    "\n",
    "with open(os.path.join(par_path, 'ptv.par'), 'r') as f:\n",
    "    n_cams = int(f.readline())\n",
    "\n",
    "print(n_cams)"
   ]
  },
  {
   "cell_type": "code",
   "execution_count": 8,
   "metadata": {},
   "outputs": [
    {
     "name": "stdout",
     "output_type": "stream",
     "text": [
      "Copying man_ori.dat from /Users/alex/Documents/OpenPTV/test_cavity/parameters to /Users/alex/Documents/OpenPTV/test_cavity...\n",
      "Copied man_ori.dat \n",
      "\n"
     ]
    }
   ],
   "source": [
    "print(\"Copying man_ori.dat from %s to %s...\" % (par_path, working_folder))\n",
    "try:\n",
    "    if os.path.isfile(os.path.join(par_path, 'man_ori.dat')):\n",
    "        shutil.copyfile(os.path.join(par_path, 'man_ori.dat'),\n",
    "                        os.path.join(working_folder, 'man_ori.dat'))\n",
    "        print(\"Copied man_ori.dat \\n\")\n",
    "except:\n",
    "    raise IOError('could not copy man_ori.dat')"
   ]
  },
  {
   "cell_type": "code",
   "execution_count": 9,
   "metadata": {},
   "outputs": [],
   "source": [
    "def read_parameters():\n",
    "    \"\"\" reads all the parameters from the /parameters in the working folder\"\"\"\n",
    "\n",
    "\n",
    "    # Control parameters\n",
    "    cpar = ControlParams(n_cams)\n",
    "    cpar.read_control_par(b'parameters/ptv.par')\n",
    "\n",
    "    # Sequence parameters\n",
    "    spar = SequenceParams(num_cams=n_cams)\n",
    "    spar.read_sequence_par(b'parameters/sequence.par',n_cams)\n",
    "\n",
    "    # Volume parameters\n",
    "    vpar = VolumeParams()\n",
    "    vpar.read_volume_par(b'parameters/criteria.par')\n",
    "\n",
    "    # Tracking parameters\n",
    "    track_par = TrackingParams()\n",
    "    track_par.read_track_par(b'parameters/track.par')\n",
    "\n",
    "    # Target parameters\n",
    "    tpar = TargetParams(n_cams)\n",
    "    # tpar.read(b'parameters/targ_rec.par') # for all images\n",
    "\n",
    "    tpar.read(b'parameters/detect_plate.par') # for calibration images\n",
    "\n",
    "\n",
    "    # Examine parameters, multiplane (single plane vs combined calibration)\n",
    "    epar= par.ExamineParams()\n",
    "    epar.read()\n",
    "\n",
    "    pftVersionParams = par.PftVersionParams(par_path)\n",
    "    pftVersionParams.read()\n",
    "    Existing_Target = np.bool(pftVersionParams.Existing_Target)\n",
    "\n",
    "    calOriParams = par.CalOriParams(n_cams, path=par_path)\n",
    "    calOriParams.read()\n",
    "\n",
    "    # Calibration parameters from ORI and ADDPAR files\n",
    "    cals =[]\n",
    "    for i_cam in range(n_cams):\n",
    "        cal = Calibration()\n",
    "        tmp = cpar.get_cal_img_base_name(i_cam)\n",
    "        cal.from_file(tmp + b'.ori', tmp + b'.addpar')\n",
    "        cals.append(cal)\n",
    "\n",
    "    return cpar, spar, vpar, track_par, tpar, cals, epar, Existing_Target, calOriParams"
   ]
  },
  {
   "cell_type": "code",
   "execution_count": 10,
   "metadata": {},
   "outputs": [],
   "source": [
    "cpar, spar, vpar, track_par, tpar, cals, epar, Existing_Target, calOriParams = read_parameters()"
   ]
  },
  {
   "cell_type": "code",
   "execution_count": 11,
   "metadata": {},
   "outputs": [],
   "source": [
    "def rgb2gray(rgb):\n",
    "    return (0.2989 * rgb[:,:,0] + 0.5870 * rgb[:,:,1] + 0.1140 * rgb[:,:,2]).clip(0,255).astype(np.uint8)"
   ]
  },
  {
   "cell_type": "code",
   "execution_count": 12,
   "metadata": {},
   "outputs": [],
   "source": [
    "# read calibration images\n",
    "cal_images = []\n",
    "for i in range(n_cams):\n",
    "    imname = cpar.get_cal_img_base_name(i)\n",
    "    # imname = calParams.img_cal_name[i]\n",
    "    # for imname in self.calParams.img_cal_name:\n",
    "    # self.cal_images.append(imread(imname))\n",
    "    im = imread(imname.decode())\n",
    "    if im.ndim > 2:\n",
    "        im = rgb2gray(im)\n",
    "\n",
    "    cal_images.append(im)"
   ]
  },
  {
   "cell_type": "code",
   "execution_count": null,
   "metadata": {},
   "outputs": [],
   "source": [
    "def show_cal_images(ind = None):\n",
    "    \"\"\" Show calibration images, if no inputs, all images are shown by default \n",
    "    if input is a scalar - only that image is shown \n",
    "    if input is a set of indices, only those cal images are shown\n",
    "    \n",
    "    Example:\n",
    "        show_cal_images()\n",
    "        show_cal_images(2)\n",
    "        show_cal_images([0,2])\n",
    "    \"\"\"\n",
    "    \n",
    "    fig_list = list()\n",
    "    \n",
    "    if ind is None: # all cameras\n",
    "        ind = range(n_cams)\n",
    "    else:\n",
    "        ind = np.atleast_1d(ind)\n",
    "        \n",
    "    if len(ind) > 1:\n",
    "        for counter, value in enumerate(ind):\n",
    "            fig, ax = plt.subplots()\n",
    "            ax.imshow(cal_images[value],cmap=plt.cm.gray)\n",
    "            plt.title('Camera {0}'.format(value))\n",
    "            plt.show()\n",
    "            fig_list.append([fig,ax])\n",
    "    else: # likely a scalar\n",
    "        fig, ax = plt.subplots()\n",
    "        ax.imshow(cal_images[ind[0]],cmap=plt.cm.gray)\n",
    "        plt.title('Camera {0}'.format(ind[0]))\n",
    "        plt.show()\n",
    "        fig_list.append([fig,ax])\n",
    "        \n",
    "    \n",
    "    return fig_list"
   ]
  },
  {
   "cell_type": "code",
   "execution_count": 48,
   "metadata": {},
   "outputs": [
    {
     "data": {
      "text/plain": [
       "[[<Figure size 1280x960 with 1 Axes>,\n",
       "  <matplotlib.axes._subplots.AxesSubplot at 0x12fdaa9b0>],\n",
       " [<Figure size 1280x960 with 1 Axes>,\n",
       "  <matplotlib.axes._subplots.AxesSubplot at 0x12f536be0>]]"
      ]
     },
     "execution_count": 48,
     "metadata": {},
     "output_type": "execute_result"
    }
   ],
   "source": [
    "# show_cal_images()\n",
    "show_cal_images([0,3])\n",
    "# show_cal_images([2])"
   ]
  },
  {
   "cell_type": "code",
   "execution_count": 49,
   "metadata": {},
   "outputs": [],
   "source": [
    "from optv.image_processing import preprocess_image\n",
    "\n",
    "if cpar.get_hp_flag(): # if highpass\n",
    "    for i in range(n_cams):\n",
    "        cal_images[i] = preprocess_image(cal_images[i], 0, cpar, 25)\n",
    "    \n",
    "    # reset the hp_flag\n",
    "    cpar.set_hp_flag(False)"
   ]
  },
  {
   "cell_type": "raw",
   "metadata": {},
   "source": [
    "# detect\n",
    "# from IPython.core.debugger import set_trace\n",
    "# %debug\n",
    "detections, corrected = \\\n",
    "        ptv.py_detection_proc_c(cal_images, cpar, tpar, cals)"
   ]
  },
  {
   "cell_type": "code",
   "execution_count": 50,
   "metadata": {},
   "outputs": [
    {
     "name": "stdout",
     "output_type": "stream",
     "text": [
      "[40 40 40 40]\n"
     ]
    }
   ],
   "source": [
    "print(tpar.get_grey_thresholds())"
   ]
  },
  {
   "cell_type": "code",
   "execution_count": 51,
   "metadata": {},
   "outputs": [],
   "source": [
    "from optv.correspondences import correspondences, MatchedCoords\n",
    "from optv.segmentation import target_recognition\n",
    "\n",
    "\n",
    "detections, corrected = [],[]\n",
    "for i_cam, img in enumerate(cal_images):\n",
    "    \n",
    "    targs = target_recognition(img, tpar, i_cam, cpar)\n",
    "\n",
    "    targs.sort_y()\n",
    "    detections.append(targs)\n",
    "    mc = MatchedCoords(targs, cpar, cals[i_cam])\n",
    "    corrected.append(mc)"
   ]
  },
  {
   "cell_type": "code",
   "execution_count": 52,
   "metadata": {},
   "outputs": [],
   "source": [
    "x = [[i.pos()[0] for i in row] for row in detections]\n",
    "y = [[i.pos()[1] for i in row] for row in detections]"
   ]
  },
  {
   "cell_type": "code",
   "execution_count": 54,
   "metadata": {},
   "outputs": [],
   "source": [
    "f = show_cal_images() # show images, overlay with dots\n",
    "for i in range(n_cams):\n",
    "    f[i][1].scatter(x[i],y[i],marker='+',color='b')"
   ]
  },
  {
   "cell_type": "code",
   "execution_count": 55,
   "metadata": {},
   "outputs": [],
   "source": [
    "def read_cal_block():\n",
    "    # type: () -> numpy.ndarray\n",
    "    return np.atleast_1d(np.loadtxt(calOriParams.fixp_name, dtype=[('id', 'i4'), ('pos', '3f8')], skiprows=0))"
   ]
  },
  {
   "cell_type": "code",
   "execution_count": 56,
   "metadata": {},
   "outputs": [
    {
     "name": "stdout",
     "output_type": "stream",
     "text": [
      "(1, [-40., -25.,   8.]) ... (73, [30., 25.,  8.])\n"
     ]
    }
   ],
   "source": [
    "cal_points = read_cal_block()\n",
    "print(cal_points[0], '...', cal_points[-1])"
   ]
  },
  {
   "cell_type": "code",
   "execution_count": 58,
   "metadata": {},
   "outputs": [],
   "source": [
    "# project initial guess\n",
    "f = show_cal_images()\n",
    "\n",
    "for i_cam in range(n_cams):\n",
    "    x, y = [], []\n",
    "    for row in cal_points:\n",
    "        projected = image_coordinates(np.atleast_2d(row['pos']), \\\n",
    "                                      cals[i_cam], cpar.get_multimedia_params())\n",
    "        pos = convert_arr_metric_to_pixel(projected, cpar)\n",
    "\n",
    "        x.append(pos[0][0])\n",
    "        y.append(pos[0][1])\n",
    "        \n",
    "    f[i_cam][1].scatter(x,y,marker='+',color='yellow')"
   ]
  },
  {
   "cell_type": "code",
   "execution_count": 22,
   "metadata": {},
   "outputs": [],
   "source": [
    "pos0 = cals[0].get_pos()\n",
    "def initial_guess(i_cam=0, pos = pos0):\n",
    "    fig, ax = plt.subplots(figsize=(10,10))\n",
    "    # change the position\n",
    "    # pos = cals[i_cam].get_pos()\n",
    "    cals[i_cam].set_pos(pos)\n",
    "    \n",
    "    # project and draw\n",
    "    x, y = [], []\n",
    "    for row in cal_points:\n",
    "        projected = image_coordinates(np.atleast_2d(row['pos']), \\\n",
    "                                      cals[i_cam], cpar.get_multimedia_params())\n",
    "        pos = convert_arr_metric_to_pixel(projected, cpar)\n",
    "\n",
    "        x.append(pos[0][0])\n",
    "        y.append(pos[0][1])\n",
    "\n",
    "    # for i in range(cpar.get_num_cams()):\n",
    "    ax.imshow(cal_images[i_cam],cmap=plt.cm.gray)\n",
    "    ax.scatter(x,y,marker='+',color='yellow')\n",
    "    plt.show()"
   ]
  },
  {
   "cell_type": "code",
   "execution_count": 25,
   "metadata": {},
   "outputs": [],
   "source": [
    "def edit_cal_parameters():\n",
    "    cp = pargui.Calib_Params(par_path=par_path)\n",
    "    cp.edit_traits(kind='modal')\n",
    "    \n",
    "    # at the end of a modification, copy the parameters\n",
    "    par.copy_params_dir(par_path, active_path)"
   ]
  },
  {
   "cell_type": "code",
   "execution_count": 26,
   "metadata": {},
   "outputs": [
    {
     "name": "stdout",
     "output_type": "stream",
     "text": [
      "inside CalHandler  /Users/alex/Documents/OpenPTV/test_cavity/parameters\n",
      "copy from /Users/alex/Documents/OpenPTV/test_cavity/parameters to /Users/alex/Documents/OpenPTV/test_cavity/parametersRun1\n"
     ]
    },
    {
     "data": {
      "text/plain": [
       "'cal/target_on_a_side.txt'"
      ]
     },
     "execution_count": 26,
     "metadata": {},
     "output_type": "execute_result"
    }
   ],
   "source": [
    "edit_cal_parameters()\n",
    "\n",
    "# must read again the parameters\n",
    "cpar, spar, vpar, track_par, tpar, cals, epar, Existing_Target,\\\n",
    "                            calOriParams = read_parameters()\n",
    "\n",
    "calOriParams.fixp_name # test"
   ]
  },
  {
   "cell_type": "raw",
   "metadata": {},
   "source": [
    "def _button_showimg_fired(self):\n",
    "\n",
    "    print(\"Loading images/parameters \\n\")\n",
    "\n",
    "    # Initialize what is needed, copy necessary things\n",
    "\n",
    "\n",
    "\n",
    "    # copy parameters from active to default folder parameters/\n",
    "    par.copy_params_dir(self.active_path, self.par_path)\n",
    "\n",
    "    # read from parameters\n",
    "    self.cpar, self.spar, self.vpar, self.track_par, self.tpar, \\\n",
    "    self.cals, self.epar = ptv.py_start_proc_c(self.n_cams)\n",
    "\n",
    "    self.tpar.read(b'parameters/detect_plate.par')\n",
    "\n",
    "    print(self.tpar.get_grey_thresholds())\n",
    "\n",
    "\n",
    "    self.calParams = par.CalOriParams(self.n_cams, self.par_path)\n",
    "    self.calParams.read()\n",
    "\n",
    "    if self.epar.Combine_Flag is True : \n",
    "        print(\"Combine Flag\")\n",
    "        self.MultiParams = par.MultiPlaneParams()\n",
    "        self.MultiParams.read()\n",
    "        for i in range(self.MultiParams.n_planes):\n",
    "            print(self.MultiParams.plane_name[i])\n",
    "\n",
    "        self.pass_raw_orient = True\n",
    "        self.status_text = \"Multiplane calibration.\"\n",
    "\n",
    "\n",
    "\n",
    "    self.reset_show_images()\n",
    "\n",
    "\n",
    "\n",
    "    self.pass_init = True\n",
    "    self.status_text = \"Initialization finished.\""
   ]
  },
  {
   "cell_type": "code",
   "execution_count": 86,
   "metadata": {},
   "outputs": [],
   "source": [
    "# to click 4 points on every image to get the manual orientation\n",
    "# the points are written in the man_ori array, see above\n",
    "# the points in pixels are stored in man_ori.dat file that\n",
    "# should appear in the working_folder and later copied to the \n",
    "# parameters folder active_path for the future \n",
    "\n",
    "\n",
    "man_ori_par = np.loadtxt(os.path.join(par_path, 'man_ori.par')).reshape((n_cams,-1)).astype(np.int)\n",
    "\n",
    "class Click():\n",
    "    def __init__(self, ax, func, man_points, button = 1):\n",
    "        self.ax = ax\n",
    "        self.func = func\n",
    "        self.button = button\n",
    "        self.man_points = man_points\n",
    "        self.press = False\n",
    "        self.move = False\n",
    "        self.data = []\n",
    "        self.c1 = self.ax.figure.canvas.mpl_connect('button_press_event', self.onpress)\n",
    "        self.c2 = self.ax.figure.canvas.mpl_connect('button_release_event', self.onrelease)\n",
    "        self.c3 = self.ax.figure.canvas.mpl_connect('motion_notify_event', self.onmove)\n",
    "\n",
    "    def onclick(self,event):\n",
    "        if event.inaxes == self.ax:\n",
    "            if event.button == self.button:\n",
    "                man_point = self.man_points.pop(0)\n",
    "                self.func(event, self.ax, man_point)\n",
    "                self.data.append([man_point,event.xdata,event.ydata])\n",
    "    def onpress(self,event):\n",
    "        self.press = True\n",
    "    def onmove(self,event):\n",
    "        if self.press:\n",
    "            self.move = True\n",
    "    def onrelease(self,event):\n",
    "        if self.press and not self.move:\n",
    "            self.onclick(event)\n",
    "        \n",
    "        self.press = False \n",
    "        self.move = False\n",
    "\n",
    "\n",
    "def pick(event, ax, man_point):\n",
    "    # print(event.xdata, event.ydata, man_point)\n",
    "    ax.scatter(event.xdata, event.ydata)\n",
    "    ax.annotate(str(man_point),(event.xdata,event.ydata),color='r')\n",
    "    ax.figure.canvas.draw()"
   ]
  },
  {
   "cell_type": "markdown",
   "metadata": {},
   "source": [
    "## coulnd't find the way to make it a loop"
   ]
  },
  {
   "cell_type": "code",
   "execution_count": 87,
   "metadata": {},
   "outputs": [],
   "source": [
    "man_points = []\n",
    "f = show_cal_images(0)\n",
    "click = Click(f[0][1], pick, man_ori_par[0].tolist(), button = 1)\n",
    "man_points.append(click.data)"
   ]
  },
  {
   "cell_type": "code",
   "execution_count": 88,
   "metadata": {},
   "outputs": [],
   "source": [
    "f = show_cal_images(1)\n",
    "click = Click(f[0][1], pick, man_ori_par[1].tolist(), button = 1)\n",
    "man_points.append(click.data)"
   ]
  },
  {
   "cell_type": "code",
   "execution_count": 89,
   "metadata": {},
   "outputs": [],
   "source": [
    "f = show_cal_images(2)\n",
    "click = Click(f[0][1], pick, man_ori_par[2].tolist(), button = 1)\n",
    "man_points.append(click.data)"
   ]
  },
  {
   "cell_type": "code",
   "execution_count": 90,
   "metadata": {},
   "outputs": [],
   "source": [
    "f = show_cal_images(3)\n",
    "click = Click(f[0][1], pick, man_ori_par[3].tolist(), button = 1)\n",
    "man_points.append(click.data)"
   ]
  },
  {
   "cell_type": "code",
   "execution_count": 91,
   "metadata": {},
   "outputs": [
    {
     "name": "stdout",
     "output_type": "stream",
     "text": [
      "[[[3, 226.68614718614714, 335.8463203463202], [5, 977.5086580086584, 333.0757575757574], [72, 1016.2965367965371, 604.590909090909], [73, 257.1623376623377, 621.2142857142856]], [[3, 287.63852813852816, 352.46969696969677], [5, 1016.2965367965371, 333.0757575757574], [72, 996.9025974025976, 612.9025974025973], [73, 262.7034632034631, 621.2142857142856]], [[3, 234.99783549783547, 391.25757575757564], [5, 969.19696969697, 380.17532467532453], [72, 969.19696969697, 895.4999999999999], [73, 243.30952380952374, 920.4350649350648]], [[3, 251.62121212121212, 297.05844155844136], [5, 988.5909090909095, 294.28787878787864], [72, 985.8203463203465, 834.5476190476189], [73, 257.1623376623377, 815.1536796536795]]]\n"
     ]
    }
   ],
   "source": [
    "man_points = np.array(man_points).reshape((-1,3)\n",
    "print(man_points)"
   ]
  },
  {
   "cell_type": "code",
   "execution_count": 122,
   "metadata": {},
   "outputs": [],
   "source": [
    "np.savetxt('new_man_ori.dat',man_points,fmt='%d %.2f %.2f')"
   ]
  },
  {
   "cell_type": "code",
   "execution_count": 124,
   "metadata": {},
   "outputs": [
    {
     "data": {
      "text/plain": [
       "array([[   3.  ,  226.69,  335.85],\n",
       "       [   5.  ,  977.51,  333.08],\n",
       "       [  72.  , 1016.3 ,  604.59],\n",
       "       [  73.  ,  257.16,  621.21],\n",
       "       [   3.  ,  287.64,  352.47],\n",
       "       [   5.  , 1016.3 ,  333.08],\n",
       "       [  72.  ,  996.9 ,  612.9 ],\n",
       "       [  73.  ,  262.7 ,  621.21],\n",
       "       [   3.  ,  235.  ,  391.26],\n",
       "       [   5.  ,  969.2 ,  380.18],\n",
       "       [  72.  ,  969.2 ,  895.5 ],\n",
       "       [  73.  ,  243.31,  920.44],\n",
       "       [   3.  ,  251.62,  297.06],\n",
       "       [   5.  ,  988.59,  294.29],\n",
       "       [  72.  ,  985.82,  834.55],\n",
       "       [  73.  ,  257.16,  815.15]])"
      ]
     },
     "execution_count": 124,
     "metadata": {},
     "output_type": "execute_result"
    }
   ],
   "source": [
    "tmp = np.loadtxt('new_man_ori.dat')\n",
    "tmp"
   ]
  },
  {
   "cell_type": "code",
   "execution_count": 126,
   "metadata": {},
   "outputs": [
    {
     "data": {
      "text/plain": [
       "'/Users/alex/Documents/OpenPTV/test_cavity/parametersRun1/man_ori.dat'"
      ]
     },
     "execution_count": 126,
     "metadata": {},
     "output_type": "execute_result"
    }
   ],
   "source": [
    "# orientation with file \n",
    "# load the dots that are stored in the man_ori.dat (pixels)\n",
    "# and their indices from the man_ori.par (index according to the calibration block text file)\n",
    "# and plots over the image\n",
    "man_ori_par = np.loadtxt(os.path.join(par_path, 'man_ori.par')).reshape((n_cams,-1)).astype(np.int)\n",
    "man_ori_dat = np.loadtxt(os.path.join(working_folder, 'man_ori.dat')).reshape((n_cams,-1))\n",
    "\n",
    "# or simply read the new_man_ori.dat that has both man_ori.par and man_ori.dat\n",
    "# \n",
    "# tmp = np.loadtxt('new_man_ori.dat')\n",
    "# print(tmp)\n",
    "\n",
    "f = show_cal_images()\n",
    "for i in range(n_cams):\n",
    "    for j in range(4):\n",
    "        f[i][1].scatter(man_ori_dat[i][j*2],man_ori_dat[i][j*2+1],color='y',marker='x')\n",
    "        f[i][1].annotate(str(man_ori_par[i][j]),(man_ori_dat[i][j*2],man_ori_dat[i][j*2+1]),color='r')\n",
    "\n",
    "# backup to the parameters folder \n",
    "shutil.copyfile(os.path.join(working_folder, 'man_ori.dat'), os.path.join(active_path, 'man_ori.dat'))"
   ]
  },
  {
   "cell_type": "code",
   "execution_count": 128,
   "metadata": {},
   "outputs": [],
   "source": [
    "f = show_cal_images()\n",
    "\n",
    "sorted_targs = []\n",
    "\n",
    "for i_cam in range(n_cams):\n",
    "\n",
    "    # if len(self.cal_points) > len(self.detections[i_cam]):\n",
    "    #     raise ValueError(\"Insufficient detected points, need at least as\"\n",
    "    #                  \"many as fixed points\")\n",
    "\n",
    "    targs = match_detection_to_ref(cals[i_cam], cal_points['pos'],\n",
    "                                   detections[i_cam], cpar)\n",
    "    x, y, pnr = [], [], []\n",
    "    for t in targs:\n",
    "        if t.pnr() != -999:\n",
    "            # pnr.append(cal_points['id'][t.pnr()])\n",
    "            # x.append(t.pos()[0])\n",
    "            # y.append(t.pos()[1])\n",
    "            f[i_cam][1].scatter(t.pos()[0], t.pos()[1],1,color='yellow')\n",
    "            f[i_cam][1].annotate(str(cal_points['id'][t.pnr()]),(t.pos()[0],t.pos()[1]),color='r')\n",
    "\n",
    "    sorted_targs.append(targs)\n",
    "    # ax[i_cam].plot_num_overlay(x, y, pnr) # <-- implement this one text over image\n",
    "    # ax[i_cam].scatter(x,y,1,color='yellow')\n",
    "    "
   ]
  },
  {
   "cell_type": "code",
   "execution_count": 131,
   "metadata": {},
   "outputs": [],
   "source": [
    "def backup_ori_files():\n",
    "    # backup ORI files\n",
    "    for f in calOriParams.img_ori[:n_cams]:\n",
    "        shutil.copyfile(f, f + '.bck')\n",
    "        g = f.replace('ori', 'addpar')\n",
    "        shutil.copyfile(g, g + '.bck')"
   ]
  },
  {
   "cell_type": "code",
   "execution_count": 157,
   "metadata": {},
   "outputs": [],
   "source": [
    "def _write_ori(i_cam):\n",
    "    \"\"\" Writes ORI and ADDPAR files for a single calibration result\n",
    "    \"\"\"\n",
    "\n",
    "    ori = calOriParams.img_ori[i_cam]\n",
    "    addpar = ori.replace('ori', 'addpar')\n",
    "    print(\"Saving:\", ori, addpar)\n",
    "    cals[i_cam].write(ori.encode(), addpar.encode())\n",
    "    if epar.Examine_Flag and not epar.Combine_Flag:\n",
    "        save_point_sets(i_cam)"
   ]
  },
  {
   "cell_type": "code",
   "execution_count": 158,
   "metadata": {},
   "outputs": [],
   "source": [
    "def save_point_sets(i_cam):\n",
    "    \"\"\"\n",
    "    Saves detected and known calibration points in crd and fix format, respectively.\n",
    "    These files are needed for multiplane calibration.\n",
    "    \"\"\"\n",
    "\n",
    "    ori = calOriParams.img_ori[i_cam]\n",
    "    txt_detected = ori.replace('ori', 'crd')\n",
    "    txt_matched = ori.replace('ori', 'fix')\n",
    "\n",
    "\n",
    "    detected, known = [],[]\n",
    "    targs = sorted_targs[i_cam]\n",
    "    for i,t in enumerate(targs):\n",
    "        if t.pnr() != -999:\n",
    "            detected.append(t.pos())\n",
    "            known.append(cal_points['pos'][i]) \n",
    "    nums = np.arange(len(detected))\n",
    "    # for pnr in nums:\n",
    "    #     print(targs[pnr].pnr())\n",
    "    #     print(targs[pnr].pos())\n",
    "    #   detected[pnr] = targs[pnr].pos()\n",
    "\n",
    "    detected = np.hstack((nums[:,None], np.array(detected)))\n",
    "    known = np.hstack((nums[:,None], np.array(known)))\n",
    "\n",
    "    np.savetxt(txt_detected, detected, fmt=\"%9.5f\")\n",
    "    np.savetxt(txt_matched, known, fmt=\"%10.5f\")"
   ]
  },
  {
   "cell_type": "code",
   "execution_count": 159,
   "metadata": {},
   "outputs": [],
   "source": [
    "def reproject_cal_points(i_cam=0):\n",
    "    \n",
    "    # read cals again, after raw_orient\n",
    "    cal = Calibration()\n",
    "    tmp = cpar.get_cal_img_base_name(i_cam)\n",
    "    cal.from_file(tmp + b'.ori', tmp + b'.addpar')\n",
    "    cals[i_cam] = cal\n",
    "        \n",
    "    # project initial guess\n",
    "    f = show_cal_images(i_cam)\n",
    "\n",
    "    x, y = [], []\n",
    "    for row in cal_points:\n",
    "        projected = image_coordinates(np.atleast_2d(row['pos']), \\\n",
    "                                      cals[i_cam], cpar.get_multimedia_params())\n",
    "        pos = convert_arr_metric_to_pixel(projected, cpar)\n",
    "\n",
    "        x.append(pos[0][0])\n",
    "        y.append(pos[0][1])\n",
    "\n",
    "    f[0][1].scatter(x,y,marker='+',color='yellow')"
   ]
  },
  {
   "cell_type": "code",
   "execution_count": 167,
   "metadata": {},
   "outputs": [
    {
     "name": "stdout",
     "output_type": "stream",
     "text": [
      "[[-40.   0.  -8.]\n",
      " [-40.  25.   8.]\n",
      " [ 30.   0.  -8.]\n",
      " [ 30.  25.   8.]]\n",
      "[[1009.  979.  246.  235.]\n",
      " [ 608.  335.  620.  344.]]\n",
      "False\n",
      "Initial guess was not successful \n",
      "\n",
      "[[-40.   0.  -8.]\n",
      " [-40.  25.   8.]\n",
      " [ 30.   0.  -8.]\n",
      " [ 30.  25.   8.]]\n",
      "[[1002. 1013.  261.  285.]\n",
      " [ 609.  335.  620.  355.]]\n",
      "True\n",
      "Saving: cal/cam2.tif.ori cal/cam2.tif.addpar\n",
      "[[-40.   0.  -8.]\n",
      " [-40.  25.   8.]\n",
      " [ 30.   0.  -8.]\n",
      " [ 30.  25.   8.]]\n",
      "[[245. 236. 967. 970.]\n",
      " [926. 395. 892. 382.]]\n",
      "False\n",
      "Initial guess was not successful \n",
      "\n",
      "[[-40.   0.  -8.]\n",
      " [-40.  25.   8.]\n",
      " [ 30.   0.  -8.]\n",
      " [ 30.  25.   8.]]\n",
      "[[262. 251. 989. 988.]\n",
      " [823. 300. 837. 299.]]\n",
      "False\n",
      "Initial guess was not successful \n",
      "\n"
     ]
    }
   ],
   "source": [
    "# def raw_orient():\n",
    "\"\"\"\n",
    "update the external calibration with results of raw orientation, i.e.\n",
    "the iterative process that adjust the initial guess' external\n",
    "parameters (position and angle of cameras) without internal or\n",
    "distortions.\n",
    "\n",
    "See: https://github.com/openptv/openptv/liboptv/src/orientation.c#L591\n",
    "\"\"\"\n",
    "\n",
    "# backup the ORI/ADDPAR files first\n",
    "backup_ori_files()\n",
    "\n",
    "man_ori_dat = np.loadtxt(os.path.join(working_folder, 'man_ori.dat')).reshape((n_cams,-1))\n",
    "\n",
    "# get manual points from cal_points and use ids from man_ori.par\n",
    "\n",
    "for i_cam in range(n_cams):\n",
    "    selected_points = np.zeros((4, 3))\n",
    "    for i, cp_id in enumerate(cal_points['id']):\n",
    "        for j in range(4):\n",
    "            if cp_id == man_ori_par[i_cam][j]:\n",
    "                selected_points[j, :] = cal_points['pos'][i, :]\n",
    "                continue\n",
    "\n",
    "    # in pixels:\n",
    "    # manual_detection_points = np.array((camera[i_cam]._x, camera[i_cam]._y)).T\n",
    "    manual_detection_points = man_ori_dat[i_cam].reshape((-1,2)).T\n",
    "    \n",
    "    print(selected_points)\n",
    "    print(manual_detection_points)\n",
    "\n",
    "    success = external_calibration(cals[i_cam], selected_points, \\\n",
    "                                   manual_detection_points, cpar)\n",
    "\n",
    "    print(success)\n",
    "\n",
    "    if success is False:\n",
    "        print(\"Initial guess was not successful \\n\")\n",
    "    else:\n",
    "        reproject_cal_points(i_cam)\n",
    "        _write_ori(i_cam)"
   ]
  },
  {
   "cell_type": "code",
   "execution_count": 198,
   "metadata": {},
   "outputs": [
    {
     "name": "stdout",
     "output_type": "stream",
     "text": [
      "Saving: cal/cam1.tif.ori cal/cam1.tif.addpar\n",
      "Saving: cal/cam2.tif.ori cal/cam2.tif.addpar\n",
      "Saving: cal/cam3.tif.ori cal/cam3.tif.addpar\n"
     ]
    },
    {
     "ename": "ValueError",
     "evalue": "full calibration failed\n",
     "output_type": "error",
     "traceback": [
      "\u001b[0;31m---------------------------------------------------------------------------\u001b[0m",
      "\u001b[0;31mValueError\u001b[0m                                Traceback (most recent call last)",
      "\u001b[0;32m<ipython-input-198-70bcd1f71bc5>\u001b[0m in \u001b[0;36m<module>\u001b[0;34m\u001b[0m\n\u001b[1;32m     92\u001b[0m         residuals, targ_ix, err_est = full_calibration(cals[i_cam], cal_points['pos'], \\\n\u001b[0;32m---> 93\u001b[0;31m                                                    targs, cpar, flags)\n\u001b[0m\u001b[1;32m     94\u001b[0m     \u001b[0;32mexcept\u001b[0m\u001b[0;34m:\u001b[0m\u001b[0;34m\u001b[0m\u001b[0;34m\u001b[0m\u001b[0m\n",
      "\u001b[0;32moptv/orientation.pyx\u001b[0m in \u001b[0;36moptv.orientation.full_calibration\u001b[0;34m()\u001b[0m\n",
      "\u001b[0;31mValueError\u001b[0m: Orientation iteration failed, need better setup.",
      "\nDuring handling of the above exception, another exception occurred:\n",
      "\u001b[0;31mValueError\u001b[0m                                Traceback (most recent call last)",
      "\u001b[0;32m<ipython-input-198-70bcd1f71bc5>\u001b[0m in \u001b[0;36m<module>\u001b[0;34m\u001b[0m\n\u001b[1;32m     93\u001b[0m                                                    targs, cpar, flags)\n\u001b[1;32m     94\u001b[0m     \u001b[0;32mexcept\u001b[0m\u001b[0;34m:\u001b[0m\u001b[0;34m\u001b[0m\u001b[0;34m\u001b[0m\u001b[0m\n\u001b[0;32m---> 95\u001b[0;31m         \u001b[0;32mraise\u001b[0m \u001b[0mValueError\u001b[0m\u001b[0;34m(\u001b[0m\u001b[0;34m\"full calibration failed\\n\"\u001b[0m\u001b[0;34m)\u001b[0m\u001b[0;34m\u001b[0m\u001b[0;34m\u001b[0m\u001b[0m\n\u001b[0m\u001b[1;32m     96\u001b[0m     \u001b[0;31m# save the results\u001b[0m\u001b[0;34m\u001b[0m\u001b[0;34m\u001b[0m\u001b[0;34m\u001b[0m\u001b[0m\n\u001b[1;32m     97\u001b[0m     \u001b[0m_write_ori\u001b[0m\u001b[0;34m(\u001b[0m\u001b[0mi_cam\u001b[0m\u001b[0;34m)\u001b[0m\u001b[0;34m\u001b[0m\u001b[0;34m\u001b[0m\u001b[0m\n",
      "\u001b[0;31mValueError\u001b[0m: full calibration failed\n"
     ]
    }
   ],
   "source": [
    "# fine orientation\n",
    "\n",
    "scale = 5000\n",
    "\n",
    "\n",
    "# backup the ORI/ADDPAR files first\n",
    "backup_ori_files()\n",
    "\n",
    "op = par.OrientParams()\n",
    "op.read()\n",
    "\n",
    "# recognized names for the flags:\n",
    "names = ['cc', 'xh', 'yh', 'k1', 'k2', 'k3', 'p1', 'p2', 'scale', 'shear']\n",
    "op_names = [op.cc, op.xh, op.yh, op.k1, op.k2, op.k3, op.p1, op.p2, op.scale, op.shear]\n",
    "\n",
    "flags = []\n",
    "for name, op_name in zip(names, op_names):\n",
    "    if (op_name == 1):\n",
    "        flags.append(name)\n",
    "\n",
    "\n",
    "for i_cam in range(n_cams): # iterate over all cameras\n",
    "\n",
    "    if epar.Combine_Flag:\n",
    "        \"\"\" Performs multiplane calibration, in which for all cameras the \n",
    "        pre-processed planes in multi_plane.par combined.\n",
    "        Overwrites the ori and addpar files of the cameras specified \n",
    "        in cal_ori.par of the multiplane parameter folder\n",
    "        \"\"\"\n",
    "\n",
    "        all_known = []\n",
    "        all_detected = []\n",
    "\n",
    "        for i in range(MultiParams.n_planes): # combine all single planes\n",
    "\n",
    "            # c = self.calParams.img_ori[i_cam][-9] # Get camera id\n",
    "            c = re.findall('\\\\d+',calOriParams.img_ori[i_cam])[0] # not all ends with a number\n",
    "\n",
    "            file_known = MultiParams.plane_name[i]+c+'.tif.fix'\n",
    "            file_detected = MultiParams.plane_name[i]+c+'.tif.crd'\n",
    "\n",
    "            # Load calibration point information from plane i\n",
    "            try:\n",
    "                known = np.loadtxt(file_known)\n",
    "                detected = np.loadtxt(file_detected)\n",
    "            except:\n",
    "                raise IOError(\"reading {} or {} failed\".format(file_known,file_detected))\n",
    "\n",
    "\n",
    "            if np.any(detected == -999):\n",
    "                raise ValueError((\"Using undetected points in {} will cause \" +\n",
    "                \"silliness. Quitting.\").format(file_detected))\n",
    "\n",
    "            num_known = len(known)\n",
    "            num_detect = len(detected)\n",
    "\n",
    "            if num_known != num_detect:\n",
    "                raise ValueError(\"Number of detected points (%d) does not match\" +\\\n",
    "                \" number of known points (%d) for %s, %s\" % \\\n",
    "                (num_known, num_detect, file_known, file_detected))\n",
    "\n",
    "            if len(all_known) > 0:\n",
    "                detected[:,0] = all_detected[-1][-1,0] + 1 + np.arange(len(detected))\n",
    "\n",
    "            # Append to list of total known and detected points\n",
    "            all_known.append(known)\n",
    "            all_detected.append(detected)\n",
    "\n",
    "\n",
    "        # Make into the format needed for full_calibration.\n",
    "        all_known = np.vstack(all_known)[:,1:]\n",
    "        all_detected = np.vstack(all_detected)\n",
    "\n",
    "        # this is the main difference in the multiplane mode\n",
    "        # that we fill the targs and cal_points by the \n",
    "        # combined information\n",
    "\n",
    "        targs = TargetArray(len(all_detected))\n",
    "        for tix in range(len(all_detected)):\n",
    "            targ = targs[tix]\n",
    "            det = all_detected[tix]\n",
    "\n",
    "            targ.set_pnr(tix)\n",
    "            targ.set_pos(det[1:])\n",
    "\n",
    "        cal_points = np.empty((all_known.shape[0],)).astype(dtype=[('id', 'i4'), ('pos', '3f8')])\n",
    "        cal_points['pos'] = all_known\n",
    "    else:\n",
    "        targs = sorted_targs[i_cam]\n",
    "\n",
    "    try: \n",
    "        residuals, targ_ix, err_est = full_calibration(cals[i_cam], cal_points['pos'], \\\n",
    "                                                   targs, cpar, flags)\n",
    "    except:\n",
    "        raise ValueError(\"full calibration failed\\n\")\n",
    "    # save the results\n",
    "    _write_ori(i_cam)\n",
    "\n",
    "\n",
    "    # Plot the output\n",
    "    # self.reset_plots()\n",
    "\n",
    "    x, y = [], []\n",
    "    for r, t in zip(residuals, targ_ix):\n",
    "        if t != -999:\n",
    "            pos = targs[t].pos()\n",
    "            x.append(pos[0])\n",
    "            y.append(pos[1])\n",
    "\n",
    "    x, y = np.array(x), np.array(y)\n",
    "    f = show_cal_images(i_cam)\n",
    "    f[0][1].scatter(x, y, 1, color='orange')\n",
    "    \n",
    "    f[0][1].quiver(x, y, scale*residuals[:len(x),0], scale*residuals[:len(x),1],color='red',width=0.0025,headaxislength=0)"
   ]
  },
  {
   "cell_type": "raw",
   "metadata": {},
   "source": [
    "# obsolete version \n",
    "def orient():\n",
    "\n",
    "    # backup ori files\n",
    "    backup_ori_files()\n",
    "    \n",
    "    # calibration\n",
    "    ptv.py_calibration(10)\n",
    "    \n",
    "    # get the output from the orientation\n",
    "    x1, y1, x2, y2 = [], [], [], []\n",
    "    ptv.py_get_from_orient(x1, y1, x2, y2)\n",
    "\n",
    "    for i in range(n_cams):\n",
    "        ax.imshow(ori_img[i],cmap=plt.cm.gray)\n",
    "        ax.drawquiver(x1[i], y1[i], x2[i], y2[i], \"red\")\n",
    "        ax.scatter(x1, y1, color=\"orange\", size=4)"
   ]
  },
  {
   "cell_type": "code",
   "execution_count": 43,
   "metadata": {},
   "outputs": [],
   "source": [
    "def _button_edit_ori_files_fired(self):\n",
    "    editor = codeEditor(path=self.par_path)\n",
    "    editor.edit_traits(kind='livemodal')"
   ]
  },
  {
   "cell_type": "raw",
   "metadata": {},
   "source": [
    "# protect ORI files\n",
    "for f in calOriParams.img_ori[:n_cams]:\n",
    "    with open(f, 'r') as d:\n",
    "        d.read().split()\n",
    "        if not np.all(np.isfinite(np.asarray(d).astype('f'))):  # if there NaN for instance\n",
    "            print(\"protected ORI file %s \" % f)\n",
    "            shutil.copyfile(f + '.bck', f)\n"
   ]
  },
  {
   "cell_type": "code",
   "execution_count": null,
   "metadata": {},
   "outputs": [],
   "source": [
    "# restore ori files\n",
    "def restore_ori_files(n_cams, calOriParams):\n",
    "    for f in calOriParams.img_ori[:n_cams]:\n",
    "        print('restored %s ' % f)\n",
    "        shutil.copyfile(f + '.bck', f)\n",
    "        g = f.replace('ori', 'addpar')\n",
    "        shutil.copyfile(g + '.bck', g)"
   ]
  },
  {
   "cell_type": "code",
   "execution_count": null,
   "metadata": {},
   "outputs": [],
   "source": [
    "%matplotlib inline\n",
    "from ipywidgets import interactive\n",
    "import matplotlib.pyplot as plt\n",
    "import numpy as np\n",
    "\n",
    "def f(m, b):\n",
    "    plt.figure(2)\n",
    "    x = np.linspace(-10, 10, num=1000)\n",
    "    plt.plot(x, m * x + b)\n",
    "    plt.ylim(-5, 5)\n",
    "    plt.show()\n",
    "\n",
    "interactive_plot = interactive(f, m=(-2.0, 2.0), b=(-3, 3, 0.5))\n",
    "output = interactive_plot.children[-1]\n",
    "output.layout.height = '350px'\n",
    "interactive_plot"
   ]
  },
  {
   "cell_type": "code",
   "execution_count": null,
   "metadata": {},
   "outputs": [],
   "source": [
    "from ipywidgets import FloatSlider\n",
    "x_widget = FloatSlider(min=0.0, max=10.0, step=0.05)\n",
    "y_widget = FloatSlider(min=0.5, max=10.0, step=0.05, value=5.0)\n",
    "\n",
    "def update_x_range(*args):\n",
    "    x_widget.max = 2.0 * y_widget.value\n",
    "y_widget.observe(update_x_range, 'value')\n",
    "\n",
    "def printer(x, y):\n",
    "    print(x, y)\n",
    "interact(printer,x=x_widget, y=y_widget);"
   ]
  },
  {
   "cell_type": "code",
   "execution_count": null,
   "metadata": {},
   "outputs": [],
   "source": []
  },
  {
   "cell_type": "code",
   "execution_count": 21,
   "metadata": {},
   "outputs": [],
   "source": [
    "from __future__ import print_function\n",
    "from ipywidgets import interact, interactive, fixed, interact_manual\n",
    "import ipywidgets as widgets"
   ]
  }
 ],
 "metadata": {
  "kernelspec": {
   "display_name": "Python 3",
   "language": "python",
   "name": "python3"
  },
  "language_info": {
   "codemirror_mode": {
    "name": "ipython",
    "version": 3
   },
   "file_extension": ".py",
   "mimetype": "text/x-python",
   "name": "python",
   "nbconvert_exporter": "python",
   "pygments_lexer": "ipython3",
   "version": "3.7.3"
  }
 },
 "nbformat": 4,
 "nbformat_minor": 2
}
