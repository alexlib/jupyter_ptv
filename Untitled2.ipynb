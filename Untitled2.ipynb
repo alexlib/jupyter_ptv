{
 "cells": [
  {
   "cell_type": "code",
   "execution_count": 2,
   "metadata": {},
   "outputs": [],
   "source": [
    "import numpy as np\n",
    "import matplotlib.pyplot as plt\n",
    "%matplotlib qt\n",
    "\n",
    "class Formatter(object):\n",
    "    def __init__(self, im):\n",
    "        self.im = im\n",
    "    def __call__(self, x, y):\n",
    "        z = self.im.get_array()[int(y), int(x)]\n",
    "        print('x={:.01f}, y={:.01f}, z={:.01f}'.format(x, y, z))\n",
    "        return 'x={:.01f}, y={:.01f}, z={:.01f}'.format(x, y, z)\n",
    "\n",
    "data = np.random.random((10,10))\n",
    "\n",
    "fig, ax = plt.subplots()\n",
    "im = ax.imshow(data, interpolation='none')\n",
    "ax.format_coord = Formatter(im)\n",
    "plt.show()"
   ]
  },
  {
   "cell_type": "code",
   "execution_count": 6,
   "metadata": {},
   "outputs": [
    {
     "name": "stdout",
     "output_type": "stream",
     "text": [
      "Collecting shapely\n",
      "\u001b[?25l  Downloading https://files.pythonhosted.org/packages/1e/32/9d1cbfdc94864282be7745a7f7679ca16beb12ec5d71efd12a3f6cc0690a/Shapely-1.6.4.post2-cp37-cp37m-macosx_10_9_x86_64.whl (1.6MB)\n",
      "\u001b[K     |████████████████████████████████| 1.6MB 15kB/s eta 0:00:013████▌                          | 266kB 528kB/s eta 0:00:03      | 389kB 31kB/s eta 0:00:38 |█████████████                   | 634kB 31kB/s eta 0:00:30        | 737kB 31kB/s eta 0:00:26839kB 31kB/s eta 0:00:23█████▍            | 942kB 32kB/s eta 0:00:2031kB/s eta 0:00:17/s eta 0:00:28��███       | 1.2MB 15kB/s eta 0:00:22��██████████████████████▉   | 1.4MB 15kB/s eta 0:00:10\n",
      "\u001b[?25hInstalling collected packages: shapely\n",
      "Successfully installed shapely-1.6.4.post2\n"
     ]
    }
   ],
   "source": [
    "!pip install shapely"
   ]
  },
  {
   "cell_type": "code",
   "execution_count": null,
   "metadata": {},
   "outputs": [],
   "source": [
    "from shapely.geometry import Point, MultiPoint\n",
    "\n",
    "points = []\n"
   ]
  }
 ],
 "metadata": {
  "kernelspec": {
   "display_name": "Python 3",
   "language": "python",
   "name": "python3"
  },
  "language_info": {
   "codemirror_mode": {
    "name": "ipython",
    "version": 3
   },
   "file_extension": ".py",
   "mimetype": "text/x-python",
   "name": "python",
   "nbconvert_exporter": "python",
   "pygments_lexer": "ipython3",
   "version": "3.7.3"
  }
 },
 "nbformat": 4,
 "nbformat_minor": 2
}
